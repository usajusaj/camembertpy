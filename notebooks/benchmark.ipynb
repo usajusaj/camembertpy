{
 "cells": [
  {
   "cell_type": "code",
   "execution_count": 1,
   "metadata": {},
   "outputs": [],
   "source": [
    "from camembert import Bri\n",
    "import pysam\n",
    "import random\n",
    "import os\n",
    "\n",
    "%load_ext memory_profiler"
   ]
  },
  {
   "cell_type": "markdown",
   "metadata": {},
   "source": [
    "# Comparison of BRI and IndexedReads"
   ]
  },
  {
   "cell_type": "code",
   "execution_count": 2,
   "metadata": {},
   "outputs": [],
   "source": [
    "bam_big = './wgEncodeUwRepliSeqSknshS3AlnRep1.bam'  # 904M\n",
    "bam_small = './wgEncodeUwRepliSeqK562G1AlnRep1.bam'  # 40M\n",
    "bam_long = './rel3-nanopore-wgs-4177064552-FAB42260.fastq.gz.sorted.bam' # 2GB long reads\n",
    "test_file = bam_long"
   ]
  },
  {
   "cell_type": "markdown",
   "metadata": {},
   "source": [
    "## Benchmark BRI index build time\n",
    "*This inludes also disk I/O for saving .bri file"
   ]
  },
  {
   "cell_type": "code",
   "execution_count": 3,
   "metadata": {},
   "outputs": [
    {
     "name": "stdout",
     "output_type": "stream",
     "text": [
      "13.4 s ± 331 ms per loop (mean ± std. dev. of 7 runs, 1 loop each)\n"
     ]
    }
   ],
   "source": [
    "%%timeit\n",
    "bri = Bri(test_file)\n",
    "bri.create()\n",
    "\n",
    "# release memory immediately\n",
    "del bri"
   ]
  },
  {
   "cell_type": "code",
   "execution_count": 4,
   "metadata": {},
   "outputs": [
    {
     "name": "stdout",
     "output_type": "stream",
     "text": [
      "Bam size=2021MB, read index size=22MB\n"
     ]
    }
   ],
   "source": [
    "bam_size = os.stat(test_file).st_size >> 20\n",
    "bri_size = os.stat(test_file + '.bri').st_size >> 20\n",
    "print(\"Bam size={}MB, read index size={}MB\".format(bam_size, bri_size))"
   ]
  },
  {
   "cell_type": "markdown",
   "metadata": {},
   "source": [
    "## Benchmark IndexedReads build time"
   ]
  },
  {
   "cell_type": "code",
   "execution_count": 5,
   "metadata": {},
   "outputs": [
    {
     "name": "stdout",
     "output_type": "stream",
     "text": [
      "12.9 s ± 156 ms per loop (mean ± std. dev. of 7 runs, 1 loop each)\n"
     ]
    }
   ],
   "source": [
    "%%timeit\n",
    "hts = pysam.AlignmentFile(test_file)\n",
    "indexed = pysam.IndexedReads(hts)\n",
    "indexed.build()\n",
    "\n",
    "# release memory immediately\n",
    "del indexed\n",
    "del hts"
   ]
  },
  {
   "cell_type": "markdown",
   "metadata": {},
   "source": [
    "## Get random read names from our test file"
   ]
  },
  {
   "cell_type": "code",
   "execution_count": 6,
   "metadata": {},
   "outputs": [],
   "source": [
    "hts = pysam.AlignmentFile(test_file)\n",
    "names = [r.query_name for r in hts]\n",
    "test_reads = random.choices(names, k=100)"
   ]
  },
  {
   "cell_type": "code",
   "execution_count": 7,
   "metadata": {},
   "outputs": [
    {
     "name": "stdout",
     "output_type": "stream",
     "text": [
      "peak memory: 204.35 MiB, increment: 79.96 MiB\n"
     ]
    }
   ],
   "source": [
    "indexed = pysam.IndexedReads(hts)\n",
    "%memit indexed.build()"
   ]
  },
  {
   "cell_type": "markdown",
   "metadata": {},
   "source": [
    "## Benchmark IndexedReads seek time"
   ]
  },
  {
   "cell_type": "code",
   "execution_count": 8,
   "metadata": {},
   "outputs": [
    {
     "name": "stdout",
     "output_type": "stream",
     "text": [
      "73 ms ± 3.59 ms per loop (mean ± std. dev. of 7 runs, 10 loops each)\n"
     ]
    }
   ],
   "source": [
    "%%timeit\n",
    "for r in test_reads:\n",
    "    list(indexed.find(r))"
   ]
  },
  {
   "cell_type": "code",
   "execution_count": 9,
   "metadata": {},
   "outputs": [
    {
     "name": "stdout",
     "output_type": "stream",
     "text": [
      "peak memory: 267.11 MiB, increment: 62.29 MiB\n"
     ]
    }
   ],
   "source": [
    "bri = Bri(test_file)\n",
    "%memit bri.load()"
   ]
  },
  {
   "cell_type": "markdown",
   "metadata": {},
   "source": [
    "## Benchmark BRI seek time"
   ]
  },
  {
   "cell_type": "code",
   "execution_count": 10,
   "metadata": {},
   "outputs": [
    {
     "name": "stdout",
     "output_type": "stream",
     "text": [
      "70.3 ms ± 796 µs per loop (mean ± std. dev. of 7 runs, 10 loops each)\n"
     ]
    }
   ],
   "source": [
    "%%timeit\n",
    "for r in test_reads:\n",
    "    list(bri.get(r))"
   ]
  }
 ],
 "metadata": {
  "kernelspec": {
   "display_name": "Python 3",
   "language": "python",
   "name": "python3"
  },
  "language_info": {
   "codemirror_mode": {
    "name": "ipython",
    "version": 3
   },
   "file_extension": ".py",
   "mimetype": "text/x-python",
   "name": "python",
   "nbconvert_exporter": "python",
   "pygments_lexer": "ipython3",
   "version": "3.7.5"
  }
 },
 "nbformat": 4,
 "nbformat_minor": 2
}
